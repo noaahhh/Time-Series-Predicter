{
  "cells": [
    {
      "cell_type": "code",
      "execution_count": null,
      "metadata": {
        "id": "dlzM1yUI1lmT",
        "colab": {
          "base_uri": "https://localhost:8080/"
        },
        "outputId": "8dd6679d-cc3b-48a7-a689-244f7083f95b"
      },
      "outputs": [
        {
          "output_type": "stream",
          "name": "stderr",
          "text": [
            "/usr/local/lib/python3.7/dist-packages/statsmodels/tools/_testing.py:19: FutureWarning: pandas.util.testing is deprecated. Use the functions in the public API at pandas.testing instead.\n",
            "  import pandas.util.testing as tm\n"
          ]
        }
      ],
      "source": [
        "import warnings\n",
        "from math import sqrt\n",
        "import pandas as pd\n",
        "from statsmodels.tsa.arima_model import ARIMA\n",
        "from sklearn.metrics import mean_squared_error"
      ]
    },
    {
      "cell_type": "code",
      "execution_count": null,
      "metadata": {
        "colab": {
          "base_uri": "https://localhost:8080/"
        },
        "id": "SG2fCdMg4_Q4",
        "outputId": "c380035f-5acd-4f03-adb1-aa0fedd8da43"
      },
      "outputs": [
        {
          "output_type": "stream",
          "name": "stdout",
          "text": [
            "Mounted at /content/drive\n"
          ]
        }
      ],
      "source": [
        "from google.colab import drive\n",
        "drive.mount('/content/drive')"
      ]
    },
    {
      "cell_type": "code",
      "execution_count": null,
      "metadata": {
        "id": "3LL-GNdO1lml"
      },
      "outputs": [],
      "source": [
        "gold = pd.read_csv('drive/MyDrive/tez_datas/gold_dataset.csv', header=0, index_col=0, squeeze=True)[\"Close\"]\n",
        "gold=gold[int(len(gold.values)*0.9):]"
      ]
    },
    {
      "cell_type": "code",
      "source": [
        "Gold= pd.read_csv('drive/MyDrive/tez_datas/present_data.csv', header=0, index_col=0, squeeze=True)[\"Gold\"]\n",
        "Gold"
      ],
      "metadata": {
        "colab": {
          "base_uri": "https://localhost:8080/"
        },
        "id": "dfTYXnlAOzSg",
        "outputId": "d4eb08a5-a521-4ca9-8bb4-1e801a3ff5a7"
      },
      "execution_count": null,
      "outputs": [
        {
          "output_type": "execute_result",
          "data": {
            "text/plain": [
              "Date\n",
              "2003-12-01     402.700012\n",
              "2003-12-02     403.700012\n",
              "2003-12-03     403.899994\n",
              "2003-12-04     403.299988\n",
              "2003-12-05     406.399994\n",
              "                 ...     \n",
              "2019-12-19    1478.199951\n",
              "2019-12-20    1474.699951\n",
              "2019-12-23    1482.500000\n",
              "2019-12-27    1513.800049\n",
              "2019-12-30    1514.500000\n",
              "Name: Gold, Length: 3028, dtype: float64"
            ]
          },
          "metadata": {},
          "execution_count": 4
        }
      ]
    },
    {
      "cell_type": "code",
      "execution_count": null,
      "metadata": {
        "id": "Fy0GDIPJ1lmh"
      },
      "outputs": [],
      "source": [
        "predicitons=list()\n",
        "from sklearn.metrics import accuracy_score\n",
        "# evaluate an ARIMA model for a given order (p,d,q)\n",
        "def evaluate_arima_model(X, arima_order):\n",
        "    # prepare training dataset\n",
        "    train_size = int(len(X) * 0.9)\n",
        "    train, test = X[0:train_size], X[train_size:]\n",
        "    history = [x for x in train]\n",
        "    # make predictions\n",
        "    predictions = list()\n",
        "    for t in range(len(test)):\n",
        "        model = ARIMA(history, order=arima_order)\n",
        "        model_fit = model.fit()\n",
        "        yhat = model_fit.forecast()[0]\n",
        "        predictions.append(yhat)\n",
        "        history.append(test[t])\n",
        "        \n",
        "    # calculate out of sample error\n",
        "    rmse = sqrt(mean_squared_error(test, predictions))\n",
        "    return rmse,predictions,model_fit\n",
        " \n",
        "# evaluate combinations of p, d and q values for an ARIMA model\n",
        "def evaluate_models(dataset, p_values, d_values, q_values):\n",
        "    dataset = dataset.astype('float32')\n",
        "    best_score, best_cfg, best_aic = float(\"inf\"), None, float(\"inf\")\n",
        "    for p in p_values:\n",
        "        for d in d_values:\n",
        "            for q in q_values:\n",
        "                order = (p,d,q)\n",
        "                try:\n",
        "                    rmse, predictions,model_fit = evaluate_arima_model(dataset, order)\n",
        "                    normalized_rmse=rmse/(max(gold.values)-min(gold.values))\n",
        "                    aic=model_fit.aic\n",
        "                    if normalized_rmse < best_score:\n",
        "                      if aic < best_aic:\n",
        "                        best_score, best_cfg,best_aic = normalized_rmse, order, aic\n",
        "                        model_fit.save('model.pkl')\n",
        "                    print('ARIMA%s norm_RMSE=%f AIC=%f' % (order,normalized_rmse,aic))\n",
        "                except:\n",
        "                    continue\n",
        "    print('Best ARIMA%s norm_RMSE=%f AIC=%f' % (best_cfg, best_score,best_aic))\n",
        "    return predictions"
      ]
    },
    {
      "cell_type": "code",
      "execution_count": null,
      "metadata": {
        "colab": {
          "base_uri": "https://localhost:8080/"
        },
        "id": "flZ37rEm1lmm",
        "outputId": "8ec92dd1-b507-4999-e082-825e7b100584"
      },
      "outputs": [
        {
          "output_type": "stream",
          "name": "stdout",
          "text": [
            "ARIMA(0, 0, 0) norm_RMSE=0.397124 AIC=3685.537685\n",
            "ARIMA(0, 0, 1) norm_RMSE=0.214360 AIC=3317.791854\n",
            "ARIMA(0, 0, 2) norm_RMSE=0.127761 AIC=3047.770235\n",
            "ARIMA(0, 1, 0) norm_RMSE=0.023385 AIC=2300.638956\n",
            "ARIMA(0, 1, 1) norm_RMSE=0.023344 AIC=2301.332115\n",
            "ARIMA(0, 1, 2) norm_RMSE=0.023289 AIC=2302.992151\n",
            "ARIMA(0, 2, 0) norm_RMSE=0.034612 AIC=2517.097701\n",
            "ARIMA(0, 2, 1) norm_RMSE=0.023227 AIC=2300.035152\n",
            "ARIMA(1, 0, 0) norm_RMSE=0.024090 AIC=2315.682376\n",
            "ARIMA(1, 0, 2) norm_RMSE=0.024016 AIC=2318.133143\n",
            "ARIMA(1, 1, 0) norm_RMSE=0.023333 AIC=2301.236470\n",
            "ARIMA(1, 1, 1) norm_RMSE=0.023001 AIC=2302.085693\n",
            "ARIMA(1, 2, 0) norm_RMSE=0.027890 AIC=2411.668259\n",
            "ARIMA(1, 2, 1) norm_RMSE=0.023146 AIC=2300.546246\n",
            "ARIMA(1, 2, 2) norm_RMSE=0.022805 AIC=2301.414703\n",
            "ARIMA(2, 0, 0) norm_RMSE=0.024062 AIC=2316.496864\n",
            "ARIMA(2, 0, 1) norm_RMSE=0.023750 AIC=2317.286475\n",
            "ARIMA(2, 0, 2) norm_RMSE=0.023688 AIC=2323.860988\n",
            "ARIMA(2, 1, 0) norm_RMSE=0.023241 AIC=2302.824003\n",
            "ARIMA(2, 1, 1) norm_RMSE=0.022976 AIC=2304.034384\n",
            "ARIMA(2, 1, 2) norm_RMSE=0.023527 AIC=2305.228409\n",
            "ARIMA(2, 2, 0) norm_RMSE=0.028385 AIC=2386.947112\n",
            "ARIMA(2, 2, 1) norm_RMSE=0.023053 AIC=2302.172144\n",
            "ARIMA(4, 0, 0) norm_RMSE=0.023718 AIC=2319.342890\n",
            "ARIMA(4, 0, 1) norm_RMSE=0.023672 AIC=2321.591633\n",
            "ARIMA(4, 1, 0) norm_RMSE=0.022924 AIC=2305.318104\n",
            "ARIMA(4, 1, 1) norm_RMSE=0.022887 AIC=2307.222454\n",
            "ARIMA(4, 2, 0) norm_RMSE=0.027601 AIC=2355.001005\n",
            "ARIMA(4, 2, 1) norm_RMSE=0.022700 AIC=2304.656435\n",
            "ARIMA(4, 2, 2) norm_RMSE=0.022441 AIC=2305.675115\n",
            "ARIMA(6, 0, 0) norm_RMSE=0.023551 AIC=2322.040214\n",
            "ARIMA(6, 0, 1) norm_RMSE=0.023699 AIC=2321.841437\n",
            "ARIMA(6, 0, 2) norm_RMSE=0.024153 AIC=2322.595759\n",
            "ARIMA(6, 1, 0) norm_RMSE=0.022449 AIC=2304.481406\n",
            "ARIMA(6, 1, 1) norm_RMSE=0.022575 AIC=2306.212096\n",
            "ARIMA(6, 1, 2) norm_RMSE=0.023130 AIC=2296.724000\n",
            "ARIMA(6, 2, 0) norm_RMSE=0.026058 AIC=2350.201533\n",
            "ARIMA(6, 2, 1) norm_RMSE=0.022590 AIC=2303.552993\n",
            "ARIMA(6, 2, 2) norm_RMSE=0.022960 AIC=2302.872084\n",
            "ARIMA(8, 0, 0) norm_RMSE=0.023347 AIC=2322.003281\n",
            "ARIMA(8, 1, 0) norm_RMSE=0.022913 AIC=2307.853161\n",
            "ARIMA(8, 1, 1) norm_RMSE=0.023027 AIC=2309.437378\n",
            "ARIMA(8, 2, 0) norm_RMSE=0.024613 AIC=2333.989493\n",
            "ARIMA(8, 2, 1) norm_RMSE=0.023691 AIC=2300.848310\n",
            "ARIMA(8, 2, 2) norm_RMSE=0.024562 AIC=2300.107578\n",
            "ARIMA(10, 0, 0) norm_RMSE=0.023746 AIC=2323.005400\n",
            "ARIMA(10, 1, 0) norm_RMSE=0.022785 AIC=2300.780820\n",
            "ARIMA(10, 1, 1) norm_RMSE=0.023123 AIC=2295.344059\n",
            "ARIMA(10, 1, 2) norm_RMSE=0.023815 AIC=2293.990297\n",
            "ARIMA(10, 2, 0) norm_RMSE=0.024318 AIC=2297.610363\n",
            "ARIMA(10, 2, 1) norm_RMSE=0.024412 AIC=2298.233893\n",
            "ARIMA(10, 2, 2) norm_RMSE=0.024455 AIC=2300.233374\n",
            "Best ARIMA(10, 1, 1) norm_RMSE=0.023123 AIC=2295.344059\n"
          ]
        }
      ],
      "source": [
        "# evaluate parameters\n",
        "p_values = [0,1,2,4,6,8,10]\n",
        "d_values = range(0, 3)\n",
        "q_values = range(0, 3)\n",
        "warnings.filterwarnings(\"ignore\")\n",
        "predictions=evaluate_models(Gold[int(len(Gold)*0.9):].values, p_values, d_values, q_values)"
      ]
    },
    {
      "cell_type": "code",
      "source": [
        "from statsmodels.tsa.arima_model import ARIMAResults\n",
        "import pickle\n",
        "with open('model.pkl','rb') as f:\n",
        "    loaded = pickle.load(f)\n",
        "    print(loaded.summary())"
      ],
      "metadata": {
        "colab": {
          "base_uri": "https://localhost:8080/"
        },
        "id": "cbVmFJNC6CgS",
        "outputId": "02e49645-1ba2-4c4a-d2be-0878ff98d7de"
      },
      "execution_count": null,
      "outputs": [
        {
          "output_type": "stream",
          "name": "stdout",
          "text": [
            "                             ARIMA Model Results                              \n",
            "==============================================================================\n",
            "Dep. Variable:                    D.y   No. Observations:                  301\n",
            "Model:                ARIMA(10, 1, 1)   Log Likelihood               -1134.672\n",
            "Method:                       css-mle   S.D. of innovations             10.480\n",
            "Date:                Wed, 10 Aug 2022   AIC                           2295.344\n",
            "Time:                        14:02:10   BIC                           2343.536\n",
            "Sample:                             1   HQIC                          2314.629\n",
            "                                                                              \n",
            "==============================================================================\n",
            "                 coef    std err          z      P>|z|      [0.025      0.975]\n",
            "------------------------------------------------------------------------------\n",
            "const          0.7865      0.784      1.003      0.316      -0.750       2.323\n",
            "ar.L1.D.y      0.3854      0.140      2.744      0.006       0.110       0.661\n",
            "ar.L2.D.y      0.0711      0.062      1.148      0.252      -0.050       0.193\n",
            "ar.L3.D.y     -0.0487      0.062     -0.787      0.432      -0.170       0.073\n",
            "ar.L4.D.y      0.0997      0.062      1.617      0.107      -0.021       0.221\n",
            "ar.L5.D.y     -0.0705      0.062     -1.139      0.256      -0.192       0.051\n",
            "ar.L6.D.y     -0.1020      0.062     -1.645      0.101      -0.224       0.020\n",
            "ar.L7.D.y      0.0287      0.063      0.455      0.649      -0.095       0.152\n",
            "ar.L8.D.y     -0.0196      0.061     -0.319      0.750      -0.140       0.101\n",
            "ar.L9.D.y      0.1171      0.061      1.917      0.056      -0.003       0.237\n",
            "ar.L10.D.y     0.1583      0.064      2.489      0.013       0.034       0.283\n",
            "ma.L1.D.y     -0.4981      0.134     -3.703      0.000      -0.762      -0.234\n",
            "                                    Roots                                     \n",
            "==============================================================================\n",
            "                   Real          Imaginary           Modulus         Frequency\n",
            "------------------------------------------------------------------------------\n",
            "AR.1             1.1005           -0.0000j            1.1005           -0.0000\n",
            "AR.2             0.9095           -0.6000j            1.0896           -0.0928\n",
            "AR.3             0.9095           +0.6000j            1.0896            0.0928\n",
            "AR.4             0.3277           -1.1291j            1.1756           -0.2050\n",
            "AR.5             0.3277           +1.1291j            1.1756            0.2050\n",
            "AR.6            -0.3542           -1.1834j            1.2352           -0.2963\n",
            "AR.7            -0.3542           +1.1834j            1.2352            0.2963\n",
            "AR.8            -1.1153           -0.6503j            1.2910           -0.4160\n",
            "AR.9            -1.1153           +0.6503j            1.2910            0.4160\n",
            "AR.10           -1.3754           -0.0000j            1.3754           -0.5000\n",
            "MA.1             2.0078           +0.0000j            2.0078            0.0000\n",
            "------------------------------------------------------------------------------\n"
          ]
        }
      ]
    },
    {
      "cell_type": "code",
      "source": [
        "len(predictions)"
      ],
      "metadata": {
        "colab": {
          "base_uri": "https://localhost:8080/"
        },
        "id": "ktZgrERR9amx",
        "outputId": "c9350c86-6c1a-4b85-be79-915e5868977b"
      },
      "execution_count": null,
      "outputs": [
        {
          "output_type": "execute_result",
          "data": {
            "text/plain": [
              "4"
            ]
          },
          "metadata": {},
          "execution_count": 8
        }
      ]
    },
    {
      "cell_type": "code",
      "source": [
        "import matplotlib.pyplot as plt\n"
      ],
      "metadata": {
        "id": "xsrDxpt0r9h8"
      },
      "execution_count": null,
      "outputs": []
    },
    {
      "cell_type": "code",
      "source": [
        "plt.figure(figsize=(20,8))\n",
        "plt.plot(Gold.tail(len(predictions)).values,color = 'green', label = 'Altın Ons($) fiyatı')\n",
        "plt.plot(predictions,color = 'red', label = 'ARIMA fiyat tahmini')\n",
        "plt.title('Altın Ons ($) Fiyat Tahmini-ARIMA(1,1,0)')\n",
        "plt.xlabel('Zaman')\n",
        "plt.ylabel('Altın Ons($) Fiyatı')\n",
        "plt.legend()\n",
        "plt.show()"
      ],
      "metadata": {
        "colab": {
          "base_uri": "https://localhost:8080/",
          "height": 398
        },
        "id": "1RjFpFwTTRH-",
        "outputId": "4bf60aef-c1f7-4b3a-d9c3-9c92e9370bdf"
      },
      "execution_count": null,
      "outputs": [
        {
          "output_type": "display_data",
          "data": {
            "text/plain": [
              "<Figure size 1440x576 with 1 Axes>"
            ],
            "image/png": "[encoded data removed]"
          },
          "metadata": {
            "needs_background": "light"
          }
        }
      ]
    },
    {
      "cell_type": "code",
      "source": [
        "!pip install pmdarima"
      ],
      "metadata": {
        "colab": {
          "base_uri": "https://localhost:8080/",
          "height": 631
        },
        "id": "-oZDeXdlVPnd",
        "outputId": "f24ae0ce-4d41-46ba-c34e-b42ede9caf9a"
      },
      "execution_count": null,
      "outputs": [
        {
          "output_type": "stream",
          "name": "stdout",
          "text": [
            "Looking in indexes: https://pypi.org/simple, https://us-python.pkg.dev/colab-wheels/public/simple/\n",
            "Collecting pmdarima\n",
            "  Downloading pmdarima-1.8.5-cp37-cp37m-manylinux_2_17_x86_64.manylinux2014_x86_64.manylinux_2_24_x86_64.whl (1.4 MB)\n",
            "\u001b[K     |████████████████████████████████| 1.4 MB 5.0 MB/s \n",
            "\u001b[?25hRequirement already satisfied: Cython!=0.29.18,>=0.29 in /usr/local/lib/python3.7/dist-packages (from pmdarima) (0.29.32)\n",
            "Requirement already satisfied: scikit-learn>=0.22 in /usr/local/lib/python3.7/dist-packages (from pmdarima) (1.0.2)\n",
            "Requirement already satisfied: urllib3 in /usr/local/lib/python3.7/dist-packages (from pmdarima) (1.24.3)\n",
            "Requirement already satisfied: numpy>=1.19.3 in /usr/local/lib/python3.7/dist-packages (from pmdarima) (1.21.6)\n",
            "Collecting statsmodels!=0.12.0,>=0.11\n",
            "  Downloading statsmodels-0.13.2-cp37-cp37m-manylinux_2_17_x86_64.manylinux2014_x86_64.whl (9.8 MB)\n",
            "\u001b[K     |████████████████████████████████| 9.8 MB 41.1 MB/s \n",
            "\u001b[?25hRequirement already satisfied: scipy>=1.3.2 in /usr/local/lib/python3.7/dist-packages (from pmdarima) (1.7.3)\n",
            "Requirement already satisfied: joblib>=0.11 in /usr/local/lib/python3.7/dist-packages (from pmdarima) (1.1.0)\n",
            "Requirement already satisfied: pandas>=0.19 in /usr/local/lib/python3.7/dist-packages (from pmdarima) (1.3.5)\n",
            "Requirement already satisfied: setuptools!=50.0.0,>=38.6.0 in /usr/local/lib/python3.7/dist-packages (from pmdarima) (57.4.0)\n",
            "Requirement already satisfied: python-dateutil>=2.7.3 in /usr/local/lib/python3.7/dist-packages (from pandas>=0.19->pmdarima) (2.8.2)\n",
            "Requirement already satisfied: pytz>=2017.3 in /usr/local/lib/python3.7/dist-packages (from pandas>=0.19->pmdarima) (2022.1)\n",
            "Requirement already satisfied: six>=1.5 in /usr/local/lib/python3.7/dist-packages (from python-dateutil>=2.7.3->pandas>=0.19->pmdarima) (1.15.0)\n",
            "Requirement already satisfied: threadpoolctl>=2.0.0 in /usr/local/lib/python3.7/dist-packages (from scikit-learn>=0.22->pmdarima) (3.1.0)\n",
            "Requirement already satisfied: packaging>=21.3 in /usr/local/lib/python3.7/dist-packages (from statsmodels!=0.12.0,>=0.11->pmdarima) (21.3)\n",
            "Requirement already satisfied: patsy>=0.5.2 in /usr/local/lib/python3.7/dist-packages (from statsmodels!=0.12.0,>=0.11->pmdarima) (0.5.2)\n",
            "Requirement already satisfied: pyparsing!=3.0.5,>=2.0.2 in /usr/local/lib/python3.7/dist-packages (from packaging>=21.3->statsmodels!=0.12.0,>=0.11->pmdarima) (3.0.9)\n",
            "Installing collected packages: statsmodels, pmdarima\n",
            "  Attempting uninstall: statsmodels\n",
            "    Found existing installation: statsmodels 0.10.2\n",
            "    Uninstalling statsmodels-0.10.2:\n",
            "      Successfully uninstalled statsmodels-0.10.2\n",
            "Successfully installed pmdarima-1.8.5 statsmodels-0.13.2\n"
          ]
        },
        {
          "output_type": "display_data",
          "data": {
            "application/vnd.colab-display-data+json": {
              "pip_warning": {
                "packages": [
                  "statsmodels"
                ]
              }
            }
          },
          "metadata": {}
        }
      ]
    },
    {
      "cell_type": "code",
      "source": [
        "from pmdarima.arima import auto_arima\n",
        "data=Gold[0:int(len(Gold)*0.9)]\n",
        "model_autoARIMA = auto_arima(data, start_p=0, start_q=0,\n",
        "test='adf',       # use adftest to find optimal 'd'\n",
        "max_p=5, max_q=3, # maximum p and q\n",
        "m=365,              # frequency of series\n",
        "d=None,           # let model determine 'd'\n",
        "seasonal=True,   # No Seasonality\n",
        "start_P=0, \n",
        "D=0, \n",
        "trace=True,\n",
        "error_action='ignore',  \n",
        "suppress_warnings=True, \n",
        "stepwise=True)\n",
        "\n",
        "print(model_autoARIMA.summary())\n",
        "model_autoARIMA.plot_diagnostics(figsize=(15,8))\n",
        "plt.show()"
      ],
      "metadata": {
        "colab": {
          "base_uri": "https://localhost:8080/",
          "height": 555
        },
        "id": "MQcCfZ13imPV",
        "outputId": "ff336c6f-36b7-44e7-b6fe-5602a3649ba3"
      },
      "execution_count": null,
      "outputs": [
        {
          "output_type": "error",
          "ename": "ImportError",
          "evalue": "ignored",
          "traceback": [
            "\u001b[0;31m---------------------------------------------------------------------------\u001b[0m",
            "\u001b[0;31mImportError\u001b[0m                               Traceback (most recent call last)",
            "\u001b[0;32m<ipython-input-12-ebbcadc9b1ac>\u001b[0m in \u001b[0;36m<module>\u001b[0;34m()\u001b[0m\n\u001b[0;32m----> 1\u001b[0;31m \u001b[0;32mfrom\u001b[0m \u001b[0mpmdarima\u001b[0m\u001b[0;34m.\u001b[0m\u001b[0marima\u001b[0m \u001b[0;32mimport\u001b[0m \u001b[0mauto_arima\u001b[0m\u001b[0;34m\u001b[0m\u001b[0;34m\u001b[0m\u001b[0m\n\u001b[0m\u001b[1;32m      2\u001b[0m \u001b[0mdata\u001b[0m\u001b[0;34m=\u001b[0m\u001b[0mGold\u001b[0m\u001b[0;34m[\u001b[0m\u001b[0;36m0\u001b[0m\u001b[0;34m:\u001b[0m\u001b[0mint\u001b[0m\u001b[0;34m(\u001b[0m\u001b[0mlen\u001b[0m\u001b[0;34m(\u001b[0m\u001b[0mGold\u001b[0m\u001b[0;34m)\u001b[0m\u001b[0;34m*\u001b[0m\u001b[0;36m0.9\u001b[0m\u001b[0;34m)\u001b[0m\u001b[0;34m]\u001b[0m\u001b[0;34m\u001b[0m\u001b[0;34m\u001b[0m\u001b[0m\n\u001b[1;32m      3\u001b[0m model_autoARIMA = auto_arima(data, start_p=0, start_q=0,\n\u001b[1;32m      4\u001b[0m \u001b[0mtest\u001b[0m\u001b[0;34m=\u001b[0m\u001b[0;34m'adf'\u001b[0m\u001b[0;34m,\u001b[0m       \u001b[0;31m# use adftest to find optimal 'd'\u001b[0m\u001b[0;34m\u001b[0m\u001b[0;34m\u001b[0m\u001b[0m\n\u001b[1;32m      5\u001b[0m \u001b[0mmax_p\u001b[0m\u001b[0;34m=\u001b[0m\u001b[0;36m5\u001b[0m\u001b[0;34m,\u001b[0m \u001b[0mmax_q\u001b[0m\u001b[0;34m=\u001b[0m\u001b[0;36m3\u001b[0m\u001b[0;34m,\u001b[0m \u001b[0;31m# maximum p and q\u001b[0m\u001b[0;34m\u001b[0m\u001b[0;34m\u001b[0m\u001b[0m\n",
            "\u001b[0;32m/usr/local/lib/python3.7/dist-packages/pmdarima/__init__.py\u001b[0m in \u001b[0;36m<module>\u001b[0;34m()\u001b[0m\n\u001b[1;32m     50\u001b[0m \u001b[0;34m\u001b[0m\u001b[0m\n\u001b[1;32m     51\u001b[0m     \u001b[0;31m# Stuff we want at top-level\u001b[0m\u001b[0;34m\u001b[0m\u001b[0;34m\u001b[0m\u001b[0;34m\u001b[0m\u001b[0m\n\u001b[0;32m---> 52\u001b[0;31m     \u001b[0;32mfrom\u001b[0m \u001b[0;34m.\u001b[0m\u001b[0marima\u001b[0m \u001b[0;32mimport\u001b[0m \u001b[0mauto_arima\u001b[0m\u001b[0;34m,\u001b[0m \u001b[0mARIMA\u001b[0m\u001b[0;34m,\u001b[0m \u001b[0mAutoARIMA\u001b[0m\u001b[0;34m,\u001b[0m \u001b[0mStepwiseContext\u001b[0m\u001b[0;34m,\u001b[0m \u001b[0mdecompose\u001b[0m\u001b[0;34m\u001b[0m\u001b[0;34m\u001b[0m\u001b[0m\n\u001b[0m\u001b[1;32m     53\u001b[0m     \u001b[0;32mfrom\u001b[0m \u001b[0;34m.\u001b[0m\u001b[0mutils\u001b[0m \u001b[0;32mimport\u001b[0m \u001b[0macf\u001b[0m\u001b[0;34m,\u001b[0m \u001b[0mautocorr_plot\u001b[0m\u001b[0;34m,\u001b[0m \u001b[0mc\u001b[0m\u001b[0;34m,\u001b[0m \u001b[0mpacf\u001b[0m\u001b[0;34m,\u001b[0m \u001b[0mplot_acf\u001b[0m\u001b[0;34m,\u001b[0m \u001b[0mplot_pacf\u001b[0m\u001b[0;34m,\u001b[0m\u001b[0;31m \u001b[0m\u001b[0;31m\\\u001b[0m\u001b[0;34m\u001b[0m\u001b[0;34m\u001b[0m\u001b[0m\n\u001b[1;32m     54\u001b[0m         \u001b[0mtsdisplay\u001b[0m\u001b[0;34m\u001b[0m\u001b[0;34m\u001b[0m\u001b[0m\n",
            "\u001b[0;32m/usr/local/lib/python3.7/dist-packages/pmdarima/arima/__init__.py\u001b[0m in \u001b[0;36m<module>\u001b[0;34m()\u001b[0m\n\u001b[1;32m      3\u001b[0m \u001b[0;31m# Author: Taylor Smith <taylor.smith@alkaline-ml.com>\u001b[0m\u001b[0;34m\u001b[0m\u001b[0;34m\u001b[0m\u001b[0;34m\u001b[0m\u001b[0m\n\u001b[1;32m      4\u001b[0m \u001b[0;34m\u001b[0m\u001b[0m\n\u001b[0;32m----> 5\u001b[0;31m \u001b[0;32mfrom\u001b[0m \u001b[0;34m.\u001b[0m\u001b[0mapprox\u001b[0m \u001b[0;32mimport\u001b[0m \u001b[0;34m*\u001b[0m\u001b[0;34m\u001b[0m\u001b[0;34m\u001b[0m\u001b[0m\n\u001b[0m\u001b[1;32m      6\u001b[0m \u001b[0;32mfrom\u001b[0m \u001b[0;34m.\u001b[0m\u001b[0marima\u001b[0m \u001b[0;32mimport\u001b[0m \u001b[0;34m*\u001b[0m\u001b[0;34m\u001b[0m\u001b[0;34m\u001b[0m\u001b[0m\n\u001b[1;32m      7\u001b[0m \u001b[0;32mfrom\u001b[0m \u001b[0;34m.\u001b[0m\u001b[0mauto\u001b[0m \u001b[0;32mimport\u001b[0m \u001b[0;34m*\u001b[0m\u001b[0;34m\u001b[0m\u001b[0;34m\u001b[0m\u001b[0m\n",
            "\u001b[0;32m/usr/local/lib/python3.7/dist-packages/pmdarima/arima/approx.py\u001b[0m in \u001b[0;36m<module>\u001b[0;34m()\u001b[0m\n\u001b[1;32m      7\u001b[0m \u001b[0;32mimport\u001b[0m \u001b[0mnumpy\u001b[0m \u001b[0;32mas\u001b[0m \u001b[0mnp\u001b[0m\u001b[0;34m\u001b[0m\u001b[0;34m\u001b[0m\u001b[0m\n\u001b[1;32m      8\u001b[0m \u001b[0;34m\u001b[0m\u001b[0m\n\u001b[0;32m----> 9\u001b[0;31m \u001b[0;32mfrom\u001b[0m \u001b[0;34m.\u001b[0m\u001b[0;34m.\u001b[0m\u001b[0mutils\u001b[0m\u001b[0;34m.\u001b[0m\u001b[0marray\u001b[0m \u001b[0;32mimport\u001b[0m \u001b[0mc\u001b[0m\u001b[0;34m,\u001b[0m \u001b[0mcheck_endog\u001b[0m\u001b[0;34m\u001b[0m\u001b[0;34m\u001b[0m\u001b[0m\n\u001b[0m\u001b[1;32m     10\u001b[0m \u001b[0;32mfrom\u001b[0m \u001b[0;34m.\u001b[0m\u001b[0;34m.\u001b[0m\u001b[0mutils\u001b[0m \u001b[0;32mimport\u001b[0m \u001b[0mget_callable\u001b[0m\u001b[0;34m\u001b[0m\u001b[0;34m\u001b[0m\u001b[0m\n\u001b[1;32m     11\u001b[0m \u001b[0;32mfrom\u001b[0m \u001b[0;34m.\u001b[0m\u001b[0;34m.\u001b[0m\u001b[0mcompat\u001b[0m\u001b[0;34m.\u001b[0m\u001b[0mnumpy\u001b[0m \u001b[0;32mimport\u001b[0m \u001b[0mDTYPE\u001b[0m\u001b[0;34m\u001b[0m\u001b[0;34m\u001b[0m\u001b[0m\n",
            "\u001b[0;32m/usr/local/lib/python3.7/dist-packages/pmdarima/utils/__init__.py\u001b[0m in \u001b[0;36m<module>\u001b[0;34m()\u001b[0m\n\u001b[1;32m      5\u001b[0m \u001b[0;32mfrom\u001b[0m \u001b[0;34m.\u001b[0m\u001b[0marray\u001b[0m \u001b[0;32mimport\u001b[0m \u001b[0;34m*\u001b[0m\u001b[0;34m\u001b[0m\u001b[0;34m\u001b[0m\u001b[0m\n\u001b[1;32m      6\u001b[0m \u001b[0;32mfrom\u001b[0m \u001b[0;34m.\u001b[0m\u001b[0mmetaestimators\u001b[0m \u001b[0;32mimport\u001b[0m \u001b[0;34m*\u001b[0m\u001b[0;34m\u001b[0m\u001b[0;34m\u001b[0m\u001b[0m\n\u001b[0;32m----> 7\u001b[0;31m \u001b[0;32mfrom\u001b[0m \u001b[0;34m.\u001b[0m\u001b[0mvisualization\u001b[0m \u001b[0;32mimport\u001b[0m \u001b[0;34m*\u001b[0m\u001b[0;34m\u001b[0m\u001b[0;34m\u001b[0m\u001b[0m\n\u001b[0m\u001b[1;32m      8\u001b[0m \u001b[0;32mfrom\u001b[0m \u001b[0;34m.\u001b[0m\u001b[0mwrapped\u001b[0m \u001b[0;32mimport\u001b[0m \u001b[0;34m*\u001b[0m\u001b[0;34m\u001b[0m\u001b[0;34m\u001b[0m\u001b[0m\n\u001b[1;32m      9\u001b[0m \u001b[0;34m\u001b[0m\u001b[0m\n",
            "\u001b[0;32m/usr/local/lib/python3.7/dist-packages/pmdarima/utils/visualization.py\u001b[0m in \u001b[0;36m<module>\u001b[0;34m()\u001b[0m\n\u001b[1;32m      9\u001b[0m \u001b[0;32mfrom\u001b[0m \u001b[0;34m.\u001b[0m\u001b[0;34m.\u001b[0m\u001b[0mcompat\u001b[0m\u001b[0;34m.\u001b[0m\u001b[0mmatplotlib\u001b[0m \u001b[0;32mimport\u001b[0m \u001b[0mget_compatible_pyplot\u001b[0m\u001b[0;34m\u001b[0m\u001b[0;34m\u001b[0m\u001b[0m\n\u001b[1;32m     10\u001b[0m \u001b[0;34m\u001b[0m\u001b[0m\n\u001b[0;32m---> 11\u001b[0;31m \u001b[0;32mfrom\u001b[0m \u001b[0mstatsmodels\u001b[0m\u001b[0;34m.\u001b[0m\u001b[0mgraphics\u001b[0m \u001b[0;32mimport\u001b[0m \u001b[0mtsaplots\u001b[0m\u001b[0;34m\u001b[0m\u001b[0;34m\u001b[0m\u001b[0m\n\u001b[0m\u001b[1;32m     12\u001b[0m \u001b[0;34m\u001b[0m\u001b[0m\n\u001b[1;32m     13\u001b[0m \u001b[0;32mimport\u001b[0m \u001b[0mnumpy\u001b[0m \u001b[0;32mas\u001b[0m \u001b[0mnp\u001b[0m\u001b[0;34m\u001b[0m\u001b[0;34m\u001b[0m\u001b[0m\n",
            "\u001b[0;32m/usr/local/lib/python3.7/dist-packages/statsmodels/graphics/tsaplots.py\u001b[0m in \u001b[0;36m<module>\u001b[0;34m()\u001b[0m\n\u001b[1;32m      9\u001b[0m \u001b[0;34m\u001b[0m\u001b[0m\n\u001b[1;32m     10\u001b[0m \u001b[0;32mfrom\u001b[0m \u001b[0mstatsmodels\u001b[0m\u001b[0;34m.\u001b[0m\u001b[0mgraphics\u001b[0m \u001b[0;32mimport\u001b[0m \u001b[0mutils\u001b[0m\u001b[0;34m\u001b[0m\u001b[0;34m\u001b[0m\u001b[0m\n\u001b[0;32m---> 11\u001b[0;31m \u001b[0;32mfrom\u001b[0m \u001b[0mstatsmodels\u001b[0m\u001b[0;34m.\u001b[0m\u001b[0mtsa\u001b[0m\u001b[0;34m.\u001b[0m\u001b[0mstattools\u001b[0m \u001b[0;32mimport\u001b[0m \u001b[0macf\u001b[0m\u001b[0;34m,\u001b[0m \u001b[0mpacf\u001b[0m\u001b[0;34m\u001b[0m\u001b[0;34m\u001b[0m\u001b[0m\n\u001b[0m\u001b[1;32m     12\u001b[0m \u001b[0;34m\u001b[0m\u001b[0m\n\u001b[1;32m     13\u001b[0m \u001b[0;34m\u001b[0m\u001b[0m\n",
            "\u001b[0;32m/usr/local/lib/python3.7/dist-packages/statsmodels/tsa/stattools.py\u001b[0m in \u001b[0;36m<module>\u001b[0;34m()\u001b[0m\n\u001b[1;32m      6\u001b[0m \u001b[0;32mfrom\u001b[0m \u001b[0mstatsmodels\u001b[0m\u001b[0;34m.\u001b[0m\u001b[0mcompat\u001b[0m\u001b[0;34m.\u001b[0m\u001b[0mnumpy\u001b[0m \u001b[0;32mimport\u001b[0m \u001b[0mlstsq\u001b[0m\u001b[0;34m\u001b[0m\u001b[0;34m\u001b[0m\u001b[0m\n\u001b[1;32m      7\u001b[0m \u001b[0;32mfrom\u001b[0m \u001b[0mstatsmodels\u001b[0m\u001b[0;34m.\u001b[0m\u001b[0mcompat\u001b[0m\u001b[0;34m.\u001b[0m\u001b[0mpandas\u001b[0m \u001b[0;32mimport\u001b[0m \u001b[0mdeprecate_kwarg\u001b[0m\u001b[0;34m\u001b[0m\u001b[0;34m\u001b[0m\u001b[0m\n\u001b[0;32m----> 8\u001b[0;31m \u001b[0;32mfrom\u001b[0m \u001b[0mstatsmodels\u001b[0m\u001b[0;34m.\u001b[0m\u001b[0mcompat\u001b[0m\u001b[0;34m.\u001b[0m\u001b[0mpython\u001b[0m \u001b[0;32mimport\u001b[0m \u001b[0mlzip\u001b[0m\u001b[0;34m,\u001b[0m \u001b[0mLiteral\u001b[0m\u001b[0;34m\u001b[0m\u001b[0;34m\u001b[0m\u001b[0m\n\u001b[0m\u001b[1;32m      9\u001b[0m \u001b[0;32mfrom\u001b[0m \u001b[0mstatsmodels\u001b[0m\u001b[0;34m.\u001b[0m\u001b[0mcompat\u001b[0m\u001b[0;34m.\u001b[0m\u001b[0mscipy\u001b[0m \u001b[0;32mimport\u001b[0m \u001b[0m_next_regular\u001b[0m\u001b[0;34m\u001b[0m\u001b[0;34m\u001b[0m\u001b[0m\n\u001b[1;32m     10\u001b[0m \u001b[0;34m\u001b[0m\u001b[0m\n",
            "\u001b[0;31mImportError\u001b[0m: cannot import name 'Literal' from 'statsmodels.compat.python' (/usr/local/lib/python3.7/dist-packages/statsmodels/compat/python.py)",
            "",
            "\u001b[0;31m---------------------------------------------------------------------------\u001b[0;32m\nNOTE: If your import is failing due to a missing package, you can\nmanually install dependencies using either !pip or !apt.\n\nTo view examples of installing some common dependencies, click the\n\"Open Examples\" button below.\n\u001b[0;31m---------------------------------------------------------------------------\u001b[0m\n"
          ],
          "errorDetails": {
            "actions": [
              {
                "action": "open_url",
                "actionText": "Open Examples",
                "url": "/notebooks/snippets/importing_libraries.ipynb"
              }
            ]
          }
        }
      ]
    },
    {
      "cell_type": "code",
      "source": [
        "#Modeling\n",
        "# Build Model\n",
        "model = ARIMA(data, order=(1,1,1))  \n",
        "fitted = model.fit(disp=-1)  \n",
        "print(fitted.summary())"
      ],
      "metadata": {
        "id": "YPUX7p7C2TGB"
      },
      "execution_count": null,
      "outputs": []
    }
  ],
  "metadata": {
    "colab": {
      "name": "ARIMA.ipynb",
      "provenance": [],
      "collapsed_sections": []
    },
    "kernelspec": {
      "display_name": "Python 3.10.0 64-bit ('thesis-env')",
      "language": "python",
      "name": "python3"
    },
    "language_info": {
      "codemirror_mode": {
        "name": "ipython",
        "version": 3
      },
      "file_extension": ".py",
      "mimetype": "text/x-python",
      "name": "python",
      "nbconvert_exporter": "python",
      "pygments_lexer": "ipython3",
      "version": "3.10.0"
    },
    "vscode": {
      "interpreter": {
        "hash": "0404da186f1a35123d6ca74a7b3067a4f9783308fb96b280b449760ef9edaf5a"
      }
    }
  },
  "nbformat": 4,
  "nbformat_minor": 0
}