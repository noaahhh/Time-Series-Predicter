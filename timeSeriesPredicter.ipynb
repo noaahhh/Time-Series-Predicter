{
  "nbformat": 4,
  "nbformat_minor": 0,
  "metadata": {
    "colab": {
      "name": "Copy of timeSeriesPredicter.ipynb",
      "provenance": [],
      "collapsed_sections": []
    },
    "kernelspec": {
      "name": "python3",
      "display_name": "Python 3"
    },
    "language_info": {
      "name": "python"
    }
  },
  "cells": [
    {
      "cell_type": "markdown",
      "metadata": {
        "id": "SQlwyobxZi1a"
      },
      "source": [
        "# Stock Cost Time-Series Predicter App\n",
        "This notebook gonna show  you how to predict a time-series using a LSTM tecnique and create a succesful model."
      ]
    },
    {
      "cell_type": "code",
      "metadata": {
        "id": "ZeiASA6jjpx0"
      },
      "source": [
        "import numpy as np\n",
        "import pandas as pd\n",
        "import matplotlib as mpl\n",
        "import pandas_datareader as dt\n",
        "import datetime as date\n",
        "\n",
        "from  sklearn.preprocessing import MinMaxScaler\n",
        "from tensorflow.keras.layers import Dense,Dropout, LSTM\n",
        "from tensorflow.keras.models import Sequential\n"
      ],
      "execution_count": null,
      "outputs": []
    },
    {
      "cell_type": "markdown",
      "metadata": {
        "id": "4GCebAiMgOiV"
      },
      "source": [
        "Adding local variable for Yahoo finance"
      ]
    },
    {
      "cell_type": "code",
      "metadata": {
        "id": "HkO8OIZlcnVJ"
      },
      "source": [
        "ticker='CNY=X'   ## USD-China Yuan\n",
        "start_date = date.datetime(2020,1,1)\n",
        "end_date=date.datetime.now()\n"
      ],
      "execution_count": null,
      "outputs": []
    },
    {
      "cell_type": "code",
      "metadata": {
        "colab": {
          "base_uri": "https://localhost:8080/",
          "height": 532
        },
        "id": "KhoVoN6vfTA7",
        "outputId": "fb921cd8-237b-4bea-a3a2-752126b67ac4"
      },
      "source": [
        "data = dt.DataReader(name=ticker, data_source='yahoo', start=start_date,end=end_date )\n",
        "data.head(15)"
      ],
      "execution_count": null,
      "outputs": [
        {
          "output_type": "execute_result",
          "data": {
            "text/html": [
              "<div>\n",
              "<style scoped>\n",
              "    .dataframe tbody tr th:only-of-type {\n",
              "        vertical-align: middle;\n",
              "    }\n",
              "\n",
              "    .dataframe tbody tr th {\n",
              "        vertical-align: top;\n",
              "    }\n",
              "\n",
              "    .dataframe thead th {\n",
              "        text-align: right;\n",
              "    }\n",
              "</style>\n",
              "<table border=\"1\" class=\"dataframe\">\n",
              "  <thead>\n",
              "    <tr style=\"text-align: right;\">\n",
              "      <th></th>\n",
              "      <th>High</th>\n",
              "      <th>Low</th>\n",
              "      <th>Open</th>\n",
              "      <th>Close</th>\n",
              "      <th>Volume</th>\n",
              "      <th>Adj Close</th>\n",
              "    </tr>\n",
              "    <tr>\n",
              "      <th>Date</th>\n",
              "      <th></th>\n",
              "      <th></th>\n",
              "      <th></th>\n",
              "      <th></th>\n",
              "      <th></th>\n",
              "      <th></th>\n",
              "    </tr>\n",
              "  </thead>\n",
              "  <tbody>\n",
              "    <tr>\n",
              "      <th>2020-01-01</th>\n",
              "      <td>6.9623</td>\n",
              "      <td>6.9622</td>\n",
              "      <td>6.9623</td>\n",
              "      <td>6.9623</td>\n",
              "      <td>0</td>\n",
              "      <td>6.9623</td>\n",
              "    </tr>\n",
              "    <tr>\n",
              "      <th>2020-01-02</th>\n",
              "      <td>6.9730</td>\n",
              "      <td>6.9598</td>\n",
              "      <td>6.9622</td>\n",
              "      <td>6.9622</td>\n",
              "      <td>0</td>\n",
              "      <td>6.9622</td>\n",
              "    </tr>\n",
              "    <tr>\n",
              "      <th>2020-01-03</th>\n",
              "      <td>6.9744</td>\n",
              "      <td>6.9591</td>\n",
              "      <td>6.9634</td>\n",
              "      <td>6.9634</td>\n",
              "      <td>0</td>\n",
              "      <td>6.9634</td>\n",
              "    </tr>\n",
              "    <tr>\n",
              "      <th>2020-01-06</th>\n",
              "      <td>6.9775</td>\n",
              "      <td>6.9645</td>\n",
              "      <td>6.9645</td>\n",
              "      <td>6.9645</td>\n",
              "      <td>0</td>\n",
              "      <td>6.9645</td>\n",
              "    </tr>\n",
              "    <tr>\n",
              "      <th>2020-01-07</th>\n",
              "      <td>6.9750</td>\n",
              "      <td>6.9308</td>\n",
              "      <td>6.9745</td>\n",
              "      <td>6.9745</td>\n",
              "      <td>0</td>\n",
              "      <td>6.9745</td>\n",
              "    </tr>\n",
              "    <tr>\n",
              "      <th>2020-01-08</th>\n",
              "      <td>6.9530</td>\n",
              "      <td>6.9315</td>\n",
              "      <td>6.9444</td>\n",
              "      <td>6.9444</td>\n",
              "      <td>0</td>\n",
              "      <td>6.9444</td>\n",
              "    </tr>\n",
              "    <tr>\n",
              "      <th>2020-01-09</th>\n",
              "      <td>6.9516</td>\n",
              "      <td>6.9451</td>\n",
              "      <td>6.9452</td>\n",
              "      <td>6.9452</td>\n",
              "      <td>0</td>\n",
              "      <td>6.9452</td>\n",
              "    </tr>\n",
              "    <tr>\n",
              "      <th>2020-01-10</th>\n",
              "      <td>6.9560</td>\n",
              "      <td>6.9093</td>\n",
              "      <td>6.9517</td>\n",
              "      <td>6.9517</td>\n",
              "      <td>0</td>\n",
              "      <td>6.9517</td>\n",
              "    </tr>\n",
              "    <tr>\n",
              "      <th>2020-01-13</th>\n",
              "      <td>6.9142</td>\n",
              "      <td>6.8837</td>\n",
              "      <td>6.9093</td>\n",
              "      <td>6.9093</td>\n",
              "      <td>0</td>\n",
              "      <td>6.9093</td>\n",
              "    </tr>\n",
              "    <tr>\n",
              "      <th>2020-01-14</th>\n",
              "      <td>6.9003</td>\n",
              "      <td>6.8646</td>\n",
              "      <td>6.8927</td>\n",
              "      <td>6.8927</td>\n",
              "      <td>0</td>\n",
              "      <td>6.8927</td>\n",
              "    </tr>\n",
              "    <tr>\n",
              "      <th>2020-01-15</th>\n",
              "      <td>6.9004</td>\n",
              "      <td>6.8828</td>\n",
              "      <td>6.9004</td>\n",
              "      <td>6.9003</td>\n",
              "      <td>0</td>\n",
              "      <td>6.9003</td>\n",
              "    </tr>\n",
              "    <tr>\n",
              "      <th>2020-01-16</th>\n",
              "      <td>6.8907</td>\n",
              "      <td>6.8701</td>\n",
              "      <td>6.8898</td>\n",
              "      <td>6.8898</td>\n",
              "      <td>0</td>\n",
              "      <td>6.8898</td>\n",
              "    </tr>\n",
              "    <tr>\n",
              "      <th>2020-01-17</th>\n",
              "      <td>6.8781</td>\n",
              "      <td>6.8526</td>\n",
              "      <td>6.8781</td>\n",
              "      <td>6.8781</td>\n",
              "      <td>0</td>\n",
              "      <td>6.8781</td>\n",
              "    </tr>\n",
              "    <tr>\n",
              "      <th>2020-01-20</th>\n",
              "      <td>6.8659</td>\n",
              "      <td>6.8398</td>\n",
              "      <td>6.8587</td>\n",
              "      <td>6.8587</td>\n",
              "      <td>0</td>\n",
              "      <td>6.8587</td>\n",
              "    </tr>\n",
              "    <tr>\n",
              "      <th>2020-01-21</th>\n",
              "      <td>6.9080</td>\n",
              "      <td>6.8658</td>\n",
              "      <td>6.8658</td>\n",
              "      <td>6.8658</td>\n",
              "      <td>0</td>\n",
              "      <td>6.8658</td>\n",
              "    </tr>\n",
              "  </tbody>\n",
              "</table>\n",
              "</div>"
            ],
            "text/plain": [
              "              High     Low    Open   Close  Volume  Adj Close\n",
              "Date                                                         \n",
              "2020-01-01  6.9623  6.9622  6.9623  6.9623       0     6.9623\n",
              "2020-01-02  6.9730  6.9598  6.9622  6.9622       0     6.9622\n",
              "2020-01-03  6.9744  6.9591  6.9634  6.9634       0     6.9634\n",
              "2020-01-06  6.9775  6.9645  6.9645  6.9645       0     6.9645\n",
              "2020-01-07  6.9750  6.9308  6.9745  6.9745       0     6.9745\n",
              "2020-01-08  6.9530  6.9315  6.9444  6.9444       0     6.9444\n",
              "2020-01-09  6.9516  6.9451  6.9452  6.9452       0     6.9452\n",
              "2020-01-10  6.9560  6.9093  6.9517  6.9517       0     6.9517\n",
              "2020-01-13  6.9142  6.8837  6.9093  6.9093       0     6.9093\n",
              "2020-01-14  6.9003  6.8646  6.8927  6.8927       0     6.8927\n",
              "2020-01-15  6.9004  6.8828  6.9004  6.9003       0     6.9003\n",
              "2020-01-16  6.8907  6.8701  6.8898  6.8898       0     6.8898\n",
              "2020-01-17  6.8781  6.8526  6.8781  6.8781       0     6.8781\n",
              "2020-01-20  6.8659  6.8398  6.8587  6.8587       0     6.8587\n",
              "2020-01-21  6.9080  6.8658  6.8658  6.8658       0     6.8658"
            ]
          },
          "metadata": {},
          "execution_count": 149
        }
      ]
    },
    {
      "cell_type": "markdown",
      "metadata": {
        "id": "wI-D7ov3-ZgX"
      },
      "source": [
        "## Normalize the \"Close\" cost"
      ]
    },
    {
      "cell_type": "code",
      "metadata": {
        "colab": {
          "base_uri": "https://localhost:8080/"
        },
        "id": "5-qZUCzJfVKr",
        "outputId": "6d8274ae-be41-4b27-a04f-b20f259c74fd"
      },
      "source": [
        "Close = data['Close']\n",
        "scaler = MinMaxScaler(feature_range=(0,1))\n",
        "scaledData = scaler.fit_transform(Close.values.reshape(-1,1))\n",
        "scaledData.shape"
      ],
      "execution_count": null,
      "outputs": [
        {
          "output_type": "execute_result",
          "data": {
            "text/plain": [
              "(461, 1)"
            ]
          },
          "metadata": {},
          "execution_count": 150
        }
      ]
    },
    {
      "cell_type": "markdown",
      "metadata": {
        "id": "DcVIe_QL-h5G"
      },
      "source": [
        "## Split training and test data set\n",
        "we have 461 day  cost data, I'm gonna split the data set, first 400 days  as training set and rest of them as test datasets.\n"
      ]
    },
    {
      "cell_type": "code",
      "metadata": {
        "colab": {
          "base_uri": "https://localhost:8080/"
        },
        "id": "Sa32H02nlhcv",
        "outputId": "932385aa-a2b3-4438-b8da-b74efd80e38b"
      },
      "source": [
        "training_set = scaledData[:400]\n",
        "test_set = scaledData[400:]\n",
        "\n",
        "training_set.shape, test_set.shape"
      ],
      "execution_count": null,
      "outputs": [
        {
          "output_type": "execute_result",
          "data": {
            "text/plain": [
              "((400, 1), (61, 1))"
            ]
          },
          "metadata": {},
          "execution_count": 151
        }
      ]
    },
    {
      "cell_type": "markdown",
      "metadata": {
        "id": "aQKtJ2ghoeJz"
      },
      "source": [
        "## Create a model "
      ]
    },
    {
      "cell_type": "code",
      "metadata": {
        "colab": {
          "base_uri": "https://localhost:8080/"
        },
        "id": "1Rgk60GjodcN",
        "outputId": "d9c17970-7ae6-40a3-c549-0d1861f3ab8f"
      },
      "source": [
        "period=60 \n",
        "X_train = []\n",
        "y_train = []\n",
        "for x in range(period, len(training_set)):\n",
        "    X_train.append(training_set[x-period:x, 0])\n",
        "    y_train.append(training_set[x, 0])\n",
        "X_train, y_train = np.array(X_train), np.array(y_train)\n",
        "X_train = np.reshape(X_train, (X_train.shape[0], X_train.shape[1], 1))\n",
        "X_train.shape, y_train.shape"
      ],
      "execution_count": null,
      "outputs": [
        {
          "output_type": "execute_result",
          "data": {
            "text/plain": [
              "((340, 60, 1), (340,))"
            ]
          },
          "metadata": {},
          "execution_count": 152
        }
      ]
    },
    {
      "cell_type": "code",
      "metadata": {
        "id": "C6X4Ti3KBKme",
        "colab": {
          "base_uri": "https://localhost:8080/"
        },
        "outputId": "da27c279-beb2-4755-a778-e053541516c4"
      },
      "source": [
        "model = Sequential()\n",
        "#First\n",
        "model.add(LSTM(units = 50, return_sequences = True, input_shape = (X_train.shape[1], 1)))\n",
        "model.add(Dropout(0.2))\n",
        "# Second\n",
        "model.add(LSTM(units = 50, return_sequences = True))\n",
        "model.add(Dropout(0.2))\n",
        "# Third \n",
        "model.add(LSTM(units = 50, return_sequences = True))\n",
        "model.add(Dropout(0.2))\n",
        "# Fourth\n",
        "model.add(LSTM(units = 50))\n",
        "model.add(Dropout(0.2))\n",
        "#  output layer\n",
        "model.add(Dense(units = 1))\n",
        "# Compiling\n",
        "model.compile(optimizer = 'adam', loss = 'mean_squared_error')\n",
        "\n",
        "# Fitting to the Training set\n",
        "model.fit(X_train, y_train, epochs = 100, batch_size = 32)"
      ],
      "execution_count": null,
      "outputs": [
        {
          "output_type": "stream",
          "name": "stdout",
          "text": [
            "Epoch 1/100\n",
            "11/11 [==============================] - 8s 124ms/step - loss: 0.0943\n",
            "Epoch 2/100\n",
            "11/11 [==============================] - 2s 138ms/step - loss: 0.0243\n",
            "Epoch 3/100\n",
            "11/11 [==============================] - 1s 132ms/step - loss: 0.0101\n",
            "Epoch 4/100\n",
            "11/11 [==============================] - 1s 133ms/step - loss: 0.0103\n",
            "Epoch 5/100\n",
            "11/11 [==============================] - 2s 136ms/step - loss: 0.0097\n",
            "Epoch 6/100\n",
            "11/11 [==============================] - 1s 136ms/step - loss: 0.0067\n",
            "Epoch 7/100\n",
            "11/11 [==============================] - 1s 132ms/step - loss: 0.0090\n",
            "Epoch 8/100\n",
            "11/11 [==============================] - 2s 139ms/step - loss: 0.0071\n",
            "Epoch 9/100\n",
            "11/11 [==============================] - 1s 132ms/step - loss: 0.0056\n",
            "Epoch 10/100\n",
            "11/11 [==============================] - 1s 134ms/step - loss: 0.0059\n",
            "Epoch 11/100\n",
            "11/11 [==============================] - 2s 138ms/step - loss: 0.0062\n",
            "Epoch 12/100\n",
            "11/11 [==============================] - 1s 133ms/step - loss: 0.0059\n",
            "Epoch 13/100\n",
            "11/11 [==============================] - 1s 130ms/step - loss: 0.0066\n",
            "Epoch 14/100\n",
            "11/11 [==============================] - 1s 128ms/step - loss: 0.0052\n",
            "Epoch 15/100\n",
            "11/11 [==============================] - 1s 129ms/step - loss: 0.0060\n",
            "Epoch 16/100\n",
            "11/11 [==============================] - 1s 129ms/step - loss: 0.0061\n",
            "Epoch 17/100\n",
            "11/11 [==============================] - 1s 129ms/step - loss: 0.0056\n",
            "Epoch 18/100\n",
            "11/11 [==============================] - 1s 126ms/step - loss: 0.0056\n",
            "Epoch 19/100\n",
            "11/11 [==============================] - 1s 130ms/step - loss: 0.0047\n",
            "Epoch 20/100\n",
            "11/11 [==============================] - 1s 128ms/step - loss: 0.0047\n",
            "Epoch 21/100\n",
            "11/11 [==============================] - 1s 127ms/step - loss: 0.0047\n",
            "Epoch 22/100\n",
            "11/11 [==============================] - 1s 127ms/step - loss: 0.0047\n",
            "Epoch 23/100\n",
            "11/11 [==============================] - 1s 129ms/step - loss: 0.0054\n",
            "Epoch 24/100\n",
            "11/11 [==============================] - 1s 128ms/step - loss: 0.0058\n",
            "Epoch 25/100\n",
            "11/11 [==============================] - 1s 128ms/step - loss: 0.0066\n",
            "Epoch 26/100\n",
            "11/11 [==============================] - 1s 129ms/step - loss: 0.0056\n",
            "Epoch 27/100\n",
            "11/11 [==============================] - 1s 132ms/step - loss: 0.0053\n",
            "Epoch 28/100\n",
            "11/11 [==============================] - 1s 133ms/step - loss: 0.0052\n",
            "Epoch 29/100\n",
            "11/11 [==============================] - 1s 125ms/step - loss: 0.0058\n",
            "Epoch 30/100\n",
            "11/11 [==============================] - 1s 126ms/step - loss: 0.0061\n",
            "Epoch 31/100\n",
            "11/11 [==============================] - 1s 130ms/step - loss: 0.0055\n",
            "Epoch 32/100\n",
            "11/11 [==============================] - 1s 129ms/step - loss: 0.0043\n",
            "Epoch 33/100\n",
            "11/11 [==============================] - 1s 131ms/step - loss: 0.0039\n",
            "Epoch 34/100\n",
            "11/11 [==============================] - 1s 128ms/step - loss: 0.0050\n",
            "Epoch 35/100\n",
            "11/11 [==============================] - 1s 129ms/step - loss: 0.0044\n",
            "Epoch 36/100\n",
            "11/11 [==============================] - 1s 129ms/step - loss: 0.0037\n",
            "Epoch 37/100\n",
            "11/11 [==============================] - 1s 129ms/step - loss: 0.0045\n",
            "Epoch 38/100\n",
            "11/11 [==============================] - 1s 135ms/step - loss: 0.0054\n",
            "Epoch 39/100\n",
            "11/11 [==============================] - 1s 129ms/step - loss: 0.0050\n",
            "Epoch 40/100\n",
            "11/11 [==============================] - 1s 127ms/step - loss: 0.0046\n",
            "Epoch 41/100\n",
            "11/11 [==============================] - 1s 125ms/step - loss: 0.0047\n",
            "Epoch 42/100\n",
            "11/11 [==============================] - 1s 128ms/step - loss: 0.0042\n",
            "Epoch 43/100\n",
            "11/11 [==============================] - 1s 124ms/step - loss: 0.0043\n",
            "Epoch 44/100\n",
            "11/11 [==============================] - 1s 127ms/step - loss: 0.0045\n",
            "Epoch 45/100\n",
            "11/11 [==============================] - 1s 131ms/step - loss: 0.0052\n",
            "Epoch 46/100\n",
            "11/11 [==============================] - 1s 133ms/step - loss: 0.0049\n",
            "Epoch 47/100\n",
            "11/11 [==============================] - 1s 126ms/step - loss: 0.0040\n",
            "Epoch 48/100\n",
            "11/11 [==============================] - 1s 133ms/step - loss: 0.0039\n",
            "Epoch 49/100\n",
            "11/11 [==============================] - 1s 133ms/step - loss: 0.0049\n",
            "Epoch 50/100\n",
            "11/11 [==============================] - 2s 141ms/step - loss: 0.0044\n",
            "Epoch 51/100\n",
            "11/11 [==============================] - 1s 134ms/step - loss: 0.0043\n",
            "Epoch 52/100\n",
            "11/11 [==============================] - 2s 137ms/step - loss: 0.0045\n",
            "Epoch 53/100\n",
            "11/11 [==============================] - 1s 130ms/step - loss: 0.0056\n",
            "Epoch 54/100\n",
            "11/11 [==============================] - 2s 139ms/step - loss: 0.0043\n",
            "Epoch 55/100\n",
            "11/11 [==============================] - 1s 133ms/step - loss: 0.0041\n",
            "Epoch 56/100\n",
            "11/11 [==============================] - 2s 138ms/step - loss: 0.0047\n",
            "Epoch 57/100\n",
            "11/11 [==============================] - 1s 133ms/step - loss: 0.0044\n",
            "Epoch 58/100\n",
            "11/11 [==============================] - 1s 134ms/step - loss: 0.0038\n",
            "Epoch 59/100\n",
            "11/11 [==============================] - 1s 132ms/step - loss: 0.0042\n",
            "Epoch 60/100\n",
            "11/11 [==============================] - 1s 129ms/step - loss: 0.0034\n",
            "Epoch 61/100\n",
            "11/11 [==============================] - 1s 134ms/step - loss: 0.0031\n",
            "Epoch 62/100\n",
            "11/11 [==============================] - 1s 132ms/step - loss: 0.0042\n",
            "Epoch 63/100\n",
            "11/11 [==============================] - 1s 131ms/step - loss: 0.0036\n",
            "Epoch 64/100\n",
            "11/11 [==============================] - 1s 133ms/step - loss: 0.0036\n",
            "Epoch 65/100\n",
            "11/11 [==============================] - 2s 139ms/step - loss: 0.0033\n",
            "Epoch 66/100\n",
            "11/11 [==============================] - 2s 142ms/step - loss: 0.0031\n",
            "Epoch 67/100\n",
            "11/11 [==============================] - 2s 138ms/step - loss: 0.0036\n",
            "Epoch 68/100\n",
            "11/11 [==============================] - 1s 129ms/step - loss: 0.0044\n",
            "Epoch 69/100\n",
            "11/11 [==============================] - 2s 137ms/step - loss: 0.0041\n",
            "Epoch 70/100\n",
            "11/11 [==============================] - 1s 133ms/step - loss: 0.0037\n",
            "Epoch 71/100\n",
            "11/11 [==============================] - 2s 137ms/step - loss: 0.0034\n",
            "Epoch 72/100\n",
            "11/11 [==============================] - 1s 136ms/step - loss: 0.0033\n",
            "Epoch 73/100\n",
            "11/11 [==============================] - 2s 137ms/step - loss: 0.0035\n",
            "Epoch 74/100\n",
            "11/11 [==============================] - 1s 130ms/step - loss: 0.0034\n",
            "Epoch 75/100\n",
            "11/11 [==============================] - 1s 127ms/step - loss: 0.0032\n",
            "Epoch 76/100\n",
            "11/11 [==============================] - 1s 124ms/step - loss: 0.0036\n",
            "Epoch 77/100\n",
            "11/11 [==============================] - 1s 124ms/step - loss: 0.0038\n",
            "Epoch 78/100\n",
            "11/11 [==============================] - 1s 130ms/step - loss: 0.0029\n",
            "Epoch 79/100\n",
            "11/11 [==============================] - 2s 136ms/step - loss: 0.0041\n",
            "Epoch 80/100\n",
            "11/11 [==============================] - 1s 131ms/step - loss: 0.0048\n",
            "Epoch 81/100\n",
            "11/11 [==============================] - 1s 127ms/step - loss: 0.0029\n",
            "Epoch 82/100\n",
            "11/11 [==============================] - 1s 132ms/step - loss: 0.0033\n",
            "Epoch 83/100\n",
            "11/11 [==============================] - 1s 132ms/step - loss: 0.0034\n",
            "Epoch 84/100\n",
            "11/11 [==============================] - 1s 132ms/step - loss: 0.0042\n",
            "Epoch 85/100\n",
            "11/11 [==============================] - 1s 133ms/step - loss: 0.0036\n",
            "Epoch 86/100\n",
            "11/11 [==============================] - 1s 128ms/step - loss: 0.0038\n",
            "Epoch 87/100\n",
            "11/11 [==============================] - 2s 138ms/step - loss: 0.0035\n",
            "Epoch 88/100\n",
            "11/11 [==============================] - 1s 133ms/step - loss: 0.0036\n",
            "Epoch 89/100\n",
            "11/11 [==============================] - 2s 138ms/step - loss: 0.0037\n",
            "Epoch 90/100\n",
            "11/11 [==============================] - 1s 134ms/step - loss: 0.0033\n",
            "Epoch 91/100\n",
            "11/11 [==============================] - 1s 135ms/step - loss: 0.0032\n",
            "Epoch 92/100\n",
            "11/11 [==============================] - 1s 131ms/step - loss: 0.0030\n",
            "Epoch 93/100\n",
            "11/11 [==============================] - 1s 134ms/step - loss: 0.0031\n",
            "Epoch 94/100\n",
            "11/11 [==============================] - 2s 139ms/step - loss: 0.0034\n",
            "Epoch 95/100\n",
            "11/11 [==============================] - 1s 131ms/step - loss: 0.0033\n",
            "Epoch 96/100\n",
            "11/11 [==============================] - 2s 136ms/step - loss: 0.0039\n",
            "Epoch 97/100\n",
            "11/11 [==============================] - 1s 133ms/step - loss: 0.0033\n",
            "Epoch 98/100\n",
            "11/11 [==============================] - 2s 137ms/step - loss: 0.0036\n",
            "Epoch 99/100\n",
            "11/11 [==============================] - 2s 143ms/step - loss: 0.0039\n",
            "Epoch 100/100\n",
            "11/11 [==============================] - 2s 139ms/step - loss: 0.0032\n"
          ]
        },
        {
          "output_type": "execute_result",
          "data": {
            "text/plain": [
              "<keras.callbacks.History at 0x7fc28fa29390>"
            ]
          },
          "metadata": {},
          "execution_count": 153
        }
      ]
    },
    {
      "cell_type": "code",
      "metadata": {
        "id": "AM2jfhroFsai"
      },
      "source": [
        "\n"
      ],
      "execution_count": null,
      "outputs": []
    },
    {
      "cell_type": "code",
      "metadata": {
        "colab": {
          "base_uri": "https://localhost:8080/"
        },
        "id": "EX89vpfbDnfH",
        "outputId": "0cc4ee1f-ea1c-47e4-d660-11c840832827"
      },
      "source": [
        "dataset_train = data.iloc[:400,3:4]\n",
        "dataset_test = data.iloc[400:,3:4]\n",
        "\n",
        "dataset_total = pd.concat((dataset_train, dataset_test), axis = 0)\n",
        "inputs = dataset_total[len(dataset_total) - len(dataset_test) - period:].values\n",
        "inputs = inputs.reshape(-1,1)\n",
        "inputs = scaler.transform(inputs)\n",
        "X_test = []\n",
        "for i in range(period, len(inputs)):\n",
        "    X_test.append(inputs[i-period:i, 0])\n",
        "X_test = np.array(X_test)\n",
        "X_test = np.reshape(X_test, (X_test.shape[0], X_test.shape[1], 1))\n",
        "print(X_test.shape)\n"
      ],
      "execution_count": null,
      "outputs": [
        {
          "output_type": "stream",
          "name": "stdout",
          "text": [
            "(61, 60, 1)\n"
          ]
        }
      ]
    },
    {
      "cell_type": "code",
      "metadata": {
        "id": "ZRNVz4oQGzws"
      },
      "source": [
        "predicted_stock_price = model.predict(X_test)\n",
        "predicted_stock_price = scaler.inverse_transform(predicted_stock_price)"
      ],
      "execution_count": null,
      "outputs": []
    },
    {
      "cell_type": "code",
      "metadata": {
        "colab": {
          "base_uri": "https://localhost:8080/"
        },
        "id": "b7cfNniqNeEd",
        "outputId": "26394bbb-c380-4127-ab2e-f490c694b25b"
      },
      "source": [
        "dataset_test.values"
      ],
      "execution_count": null,
      "outputs": [
        {
          "output_type": "execute_result",
          "data": {
            "text/plain": [
              "array([[6.46750021],\n",
              "       [6.46829987],\n",
              "       [6.46010017],\n",
              "       [6.47819996],\n",
              "       [6.48939991],\n",
              "       [6.48390007],\n",
              "       [6.46700001],\n",
              "       [6.46969986],\n",
              "       [6.48040009],\n",
              "       [6.48169994],\n",
              "       [6.50969982],\n",
              "       [6.48939991],\n",
              "       [6.45529985],\n",
              "       [6.46049976],\n",
              "       [6.46099997],\n",
              "       [6.46920013],\n",
              "       [6.46519995],\n",
              "       [6.46029997],\n",
              "       [6.48250008],\n",
              "       [6.48519993],\n",
              "       [6.4849    ],\n",
              "       [6.47819996],\n",
              "       [6.47830009],\n",
              "       [6.4763999 ],\n",
              "       [6.47359991],\n",
              "       [6.48509979],\n",
              "       [6.48320007],\n",
              "       [6.49370003],\n",
              "       [6.49160004],\n",
              "       [6.48000002],\n",
              "       [6.46990013],\n",
              "       [6.47489977],\n",
              "       [6.48050022],\n",
              "       [6.47079992],\n",
              "       [6.46509981],\n",
              "       [6.45959997],\n",
              "       [6.45900011],\n",
              "       [6.45539999],\n",
              "       [6.45190001],\n",
              "       [6.45669985],\n",
              "       [6.46549988],\n",
              "       [6.46070004],\n",
              "       [6.45429993],\n",
              "       [6.44339991],\n",
              "       [6.45079994],\n",
              "       [6.43830013],\n",
              "       [6.43139982],\n",
              "       [6.45660019],\n",
              "       [6.46519995],\n",
              "       [6.46500015],\n",
              "       [6.46600008],\n",
              "       [6.46080017],\n",
              "       [6.45790005],\n",
              "       [6.46570015],\n",
              "       [6.45599985],\n",
              "       [6.45900011],\n",
              "       [6.4696002 ],\n",
              "       [6.4454999 ],\n",
              "       [6.44570017],\n",
              "       [6.44519997],\n",
              "       [6.44519997]])"
            ]
          },
          "metadata": {},
          "execution_count": 156
        }
      ]
    },
    {
      "cell_type": "code",
      "metadata": {
        "colab": {
          "base_uri": "https://localhost:8080/",
          "height": 295
        },
        "id": "843Pw1eVG7hH",
        "outputId": "2b7450fa-26f8-4b6d-fc71-4f39819a11a5"
      },
      "source": [
        "\n",
        "mpl.pyplot.plot(dataset_test.values,label=\"Actual Data\")\n",
        "mpl.pyplot.plot(predicted_stock_price,label=\"Predicted data\")\n",
        "mpl.pyplot.title('USD-CHY Price Prediction')\n",
        "mpl.pyplot.xlabel('Time')\n",
        "mpl.pyplot.ylabel('USD-CHY Price')\n",
        "mpl.pyplot.legend()\n",
        "mpl.pyplot.show()"
      ],
      "execution_count": null,
      "outputs": [
        {
          "output_type": "display_data",
          "data": {
            "image/png": "[encoded data removed]",
            "text/plain": [
              "<Figure size 432x288 with 1 Axes>"
            ]
          },
          "metadata": {
            "needs_background": "light"
          }
        }
      ]
    }
  ]
}